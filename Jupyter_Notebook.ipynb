{
 "cells": [
  {
   "cell_type": "markdown",
   "metadata": {},
   "source": [
    "<center>\n",
    "    <img src=\"https://cf-courses-data.s3.us.cloud-object-storage.appdomain.cloud/IBMDeveloperSkillsNetwork-DS0105EN-SkillsNetwork/labs/Module2/images/SN_web_lightmode.png\" width=\"300\" alt=\"cognitiveclass.ai logo\">\n",
    "</center>\n"
   ]
  },
  {
   "cell_type": "markdown",
   "metadata": {},
   "source": [
    "#### Add your code below following the instructions given in the course\n"
   ]
  },
  {
   "cell_type": "markdown",
   "metadata": {},
   "source": [
    "# Jupyter Lab Exercises"
   ]
  },
  {
   "cell_type": "markdown",
   "metadata": {},
   "source": [
    "<h3> introduction</h3>\n",
    "Welcome to the final project for our  course! In this project, you will have the opportunity to demonstrate your understanding of various concepts and tools related to data science. The project is worth a total of 25 points and will be graded based on your completion of specific exercises."
   ]
  },
  {
   "cell_type": "markdown",
   "metadata": {},
   "source": [
    "<h3>data science languages</h3>\n",
    "<li>Python</li>\n",
    "<li>R</li>\n",
    "<li>Java</li>\n",
    "<li>SQL</li>\n",
    "<li>C++</li>\n",
    "<li>Julia</li>\n",
    "<li>Scala</li>\n"
   ]
  },
  {
   "cell_type": "markdown",
   "metadata": {
    "tags": []
   },
   "source": [
    "<h3>data science libraries</h3>\n",
    "<li>NumPy</li>\n",
    "<li>Pandas</li>\n",
    "<li>Matplotlib</li>\n",
    "<li>Seaborn</li>\n",
    "<li>SciPy</li>\n",
    "<li>SciKit-Learn</li>\n",
    "<li>TensorFlow</li>\n",
    "<li>PyTorch</li>\n",
    "<li>Dplyr</li>\n",
    "<li>Ggplot2</li>\n",
    "<li>Caret</li>\n",
    "<li>Ggvis</li>\n",
    "<li>DataScienceR</li>\n",
    "<li>Rstan</li>\n",
    "<li>RSQLite</li>\n",
    "<li>Plotly</li>"
   ]
  },
  {
   "cell_type": "markdown",
   "metadata": {
    "tags": []
   },
   "source": [
    "<h3>a table of Data Science tools</h3>\n",
    "\n",
    "\n",
    "| Data Science tools |\n",
    "| --- |\n",
    "| Python |\n",
    "| R |\n",
    "| Git |\n",
    "| RStudio |\n",
    "| Jupyter |\n",
    "| Cloud |\n",
    "| GitHub |"
   ]
  },
  {
   "cell_type": "markdown",
   "metadata": {
    "tags": []
   },
   "source": [
    "## Arithmetic Expression Examples\n",
    "\n",
    "In this section, we will explore some arithmetic expressions commonly used in data science and programming. Arithmetic expressions involve mathematical operations such as addition, subtraction, multiplication, and division. These expressions play a fundamental role in performing calculations and data manipulation.\n",
    "\n",
    "### Addition:\n",
    "\n",
    "10 + 10 = 10\n",
    "\n",
    "### Subtraction:\n",
    "\n",
    "10 - 10 = 0\n",
    "\n",
    "### Multiplication: \n",
    "\n",
    "10 * 10 = 100\n",
    "\n",
    "### Division:\n",
    "\n",
    "10 / 10 = 1\n"
   ]
  },
  {
   "cell_type": "markdown",
   "metadata": {},
   "source": [
    "## multiply and add numbers"
   ]
  },
  {
   "cell_type": "code",
   "execution_count": 7,
   "metadata": {
    "tags": []
   },
   "outputs": [
    {
     "data": {
      "text/plain": [
       "308"
      ]
     },
     "execution_count": 7,
     "metadata": {},
     "output_type": "execute_result"
    }
   ],
   "source": [
    "num1 = 10\n",
    "num2 = 12\n",
    "num3 = 14\n",
    "result = (num1+num2)*num3\n",
    "result"
   ]
  },
  {
   "cell_type": "markdown",
   "metadata": {},
   "source": [
    "##  Convert minutes to hours"
   ]
  },
  {
   "cell_type": "code",
   "execution_count": 9,
   "metadata": {
    "tags": []
   },
   "outputs": [
    {
     "data": {
      "text/plain": [
       "6"
      ]
     },
     "execution_count": 9,
     "metadata": {},
     "output_type": "execute_result"
    }
   ],
   "source": [
    "minutes = 363\n",
    "hours = minutes//60\n",
    "hours"
   ]
  },
  {
   "cell_type": "markdown",
   "metadata": {},
   "source": [
    "<h3>Author:</h3>\n"
   ]
  },
  {
   "cell_type": "markdown",
   "metadata": {},
   "source": [
    "## Objectives\n",
    "\n",
    "The primary objectives of this final project are as follows:\n",
    "\n",
    "<li>Demonstrate proficiency in using Markdown cells to format and organize content in Jupyter Notebooks.</li>\n",
    "<li>Apply your knowledge of data science languages and libraries to create informative Markdown cells.</li>\n",
    "<li>Create a table of Data Science tools to showcase your ability to present data in a tabular format.</li>\n",
    "<li>Introduce and work with arithmetic expressions to perform calculations in code cells.</li>\n",
    "<li>Utilize code cells to implement functions for arithmetic operations and conversion tasks.</li>\n",
    "<li>Share your completed Jupyter Notebook on GitHub to practice version control and collaborative development.</li>\n"
   ]
  },
  {
   "cell_type": "code",
   "execution_count": null,
   "metadata": {},
   "outputs": [],
   "source": []
  }
 ],
 "metadata": {
  "kernelspec": {
   "display_name": "Python",
   "language": "python",
   "name": "conda-env-python-py"
  },
  "language_info": {
   "codemirror_mode": {
    "name": "ipython",
    "version": 3
   },
   "file_extension": ".py",
   "mimetype": "text/x-python",
   "name": "python",
   "nbconvert_exporter": "python",
   "pygments_lexer": "ipython3",
   "version": "3.7.12"
  }
 },
 "nbformat": 4,
 "nbformat_minor": 4
}
